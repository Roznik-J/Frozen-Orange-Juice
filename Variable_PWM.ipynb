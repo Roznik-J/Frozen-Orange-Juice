{
  "nbformat": 4,
  "nbformat_minor": 0,
  "metadata": {
    "colab": {
      "name": "Variable-PWM.ipynb",
      "provenance": [],
      "collapsed_sections": [],
      "authorship_tag": "ABX9TyPauWG3iQ3DETta85+M5+3Y",
      "include_colab_link": true
    },
    "kernelspec": {
      "name": "python3",
      "display_name": "Python 3"
    },
    "language_info": {
      "name": "python"
    }
  },
  "cells": [
    {
      "cell_type": "markdown",
      "metadata": {
        "id": "view-in-github",
        "colab_type": "text"
      },
      "source": [
        "<a href=\"https://colab.research.google.com/github/Roznik-J/Roznik-J.github.io/blob/gh-pages/Variable_PWM.ipynb\" target=\"_parent\"><img src=\"https://colab.research.google.com/assets/colab-badge.svg\" alt=\"Open In Colab\"/></a>"
      ]
    },
    {
      "cell_type": "code",
      "execution_count": 100,
      "metadata": {
        "colab": {
          "base_uri": "https://localhost:8080/"
        },
        "id": "5zBKJluRCWUQ",
        "outputId": "8f99adf1-a1b4-42ca-dda8-2825dbe65ed5"
      },
      "outputs": [
        {
          "output_type": "execute_result",
          "data": {
            "text/plain": [
              "()"
            ]
          },
          "metadata": {},
          "execution_count": 100
        }
      ],
      "source": [
        "\"\"\"\n",
        "CNH - Product Validation Team\n",
        "Justin Roznik \n",
        "\n",
        "Development History ---------\n",
        "Jan 13 2022\n",
        "  Created Initial Script\n",
        "\n",
        "To Do List --------\n",
        "Interface with Raspberry Pi GPIO pins\n",
        "Interface the program to read the input csv file\n",
        "\"\"\"\n",
        "\n",
        "\n",
        "import pandas as pd\n",
        "import numpy as np\n",
        "from matplotlib import pyplot as plt\n",
        "\n",
        "def gpio_setup():\n",
        "  \"\"\"\n",
        "  Fill in this function when we get the pi\n",
        "  This sets up the pins we need to control\n",
        "  \"\"\"\n",
        "  return()\n",
        "\n",
        "def pwm_output(gpio_array,time_array):\n",
        "  \"\"\"\n",
        "  This function controls the ouput of the pin that\n",
        "  sends out the PWM signal.\n",
        "  Needs to be filled and tested \n",
        "  \"\"\"\n",
        "  return()\n",
        "\n",
        "def pwm(duty,f,ts,T):\n",
        "  \"\"\"This generates the pwm signal for a given duty cycle\n",
        "  This gets called by cycle which will concatenate the results.\n",
        "  \"\"\"\n",
        "  samples = int(np.floor(float(T)/ts))\n",
        "  waveform = np.zeros(samples)\n",
        "  sampcyc = 1/(f*ts)\n",
        "  duty = float(duty)/100\n",
        "  for i in range(samples):\n",
        "    if (i%(sampcyc)<=(duty*sampcyc)):\n",
        "          waveform[i] = 1\n",
        "    elif (i%(sampcyc)>(duty*sampcyc)):\n",
        "          waveform[i] = 0\n",
        "  return(waveform)\n",
        "\n",
        "def cycle(dutyarray,f,ts,T):\n",
        "  \"\"\"\n",
        "  Takes in an array of custom duty-cycle values\n",
        "  cycles and concattenates the pwm function to generate\n",
        "  a custom pwm signal with variable duty cycle\n",
        "  \"\"\"\n",
        "  waveform = np.array([])\n",
        "  for k in range(len(dutyarray)):\n",
        "      arr = pwm(dutyarray[k],f,ts,T[k])\n",
        "      waveform = np.append(waveform,arr)\n",
        "  return(waveform)\n",
        "\n",
        "def savetocsv(array,ts,T,steps):\n",
        "  \"\"\"\n",
        "  Saves the results to a CSV file.\n",
        "  \"\"\"\n",
        "  arrayT = np.transpose(array)\n",
        "  timearray = np.arange(0,T*steps,ts)\n",
        "  savearray = np.asarray([np.transpose(timearray),arrayT])\n",
        "  print(savearray)\n",
        "  np.savetxt(\"pwm.csv\", np.transpose(savearray), delimiter=\",\",fmt='%f')\n",
        "  return()\n",
        "\n",
        "def main():\n",
        "  \"\"\"\n",
        "  Example Array Below; we may need to modify the pd.read and save function\n",
        "  when we start testing the system.\n",
        "  dutyarray = pd.read_csv(r'yourfile.csv')\n",
        "  \"\"\"\n",
        "  dutyarray = [0.1,0.2,0.3,0.4,0.5,0.6,0.7,0.8,0.7,0.6,0.5,0.4]\n",
        "\n",
        "  T1 = np.array(pd.read_csv(r'soleniodtestcontrol.csv'))[1:,0]\n",
        "  D1 = np.array(pd.read_csv(r'soleniodtestcontrol.csv'))[1:,1]\n",
        "  T2 = np.array(pd.read_csv(r'soleniodtestcontrol.csv'))[1:,2]\n",
        "  D2 = np.array(pd.read_csv(r'soleniodtestcontrol.csv'))[1:,3]\n",
        "  T3 = np.array(pd.read_csv(r'soleniodtestcontrol.csv'))[1:,4]\n",
        "  D3 = np.array(pd.read_csv(r'soleniodtestcontrol.csv'))[1:,5]\n",
        "\n",
        "  f = 1\n",
        "  ts = 0.5\n",
        "\n",
        "  pwm1 = cycle(D1,f,ts,T1)\n",
        "  pwm2 = cycle(D2,f,ts,T2)\n",
        "  pwm3 = cycle(D3,f,ts,T3)\n",
        "\n",
        "  maxsize = np.max(np.array([len(pwm1),len(pwm2),len(pwm3)]))\n",
        "  \n",
        "  pwm1 = np.append(pwm1,np.zeros(maxsize-len(pwm1)))\n",
        "  pwm2 = np.append(pwm2,np.zeros(maxsize-len(pwm2)))\n",
        "  pwm3 = np.append(pwm3,np.zeros(maxsize-len(pwm3)))\n",
        "\n",
        "  return()\n",
        "\n",
        "main()"
      ]
    }
  ]
}